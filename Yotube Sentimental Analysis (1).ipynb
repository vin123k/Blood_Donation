{
 "cells": [
  {
   "cell_type": "markdown",
   "metadata": {},
   "source": [
    "# Youtube Sentimental Analysis\n",
    "## Made By Group 6\n",
    "- Saransh Shukla saransh21csu461@ncuindia.edu\n",
    "- Ashutosh Gairola ashutoshgairola2003@gmail.com\n",
    "- Vansh Nath nathvansh444@gmail.com\n",
    "- Mohit Sharma sharma637383@gmail.com\n",
    "- Vinayak Vats vinayakvats8@gmail.com\n",
    "- Hemang Mishra hemang2mishra@gmail.com"
   ]
  },
  {
   "cell_type": "markdown",
   "metadata": {},
   "source": [
    "## Important Instruction \n",
    "### Do not disturb the screen or the program for any good reason, else the analysis may fail\n",
    "\n",
    "Paste the youtube link only and if needed use any of the links below  "
   ]
  },
  {
   "cell_type": "markdown",
   "metadata": {},
   "source": [
    "https://youtu.be/KbjSuMyTjG4 "
   ]
  },
  {
   "cell_type": "markdown",
   "metadata": {},
   "source": [
    "https://youtu.be/iyI-defCTa0 "
   ]
  },
  {
   "cell_type": "markdown",
   "metadata": {},
   "source": [
    "https://youtu.be/ArRqeBKBsEU "
   ]
  },
  {
   "cell_type": "markdown",
   "metadata": {},
   "source": [
    "# 1. Install and Import Dependencies"
   ]
  },
  {
   "cell_type": "markdown",
   "metadata": {},
   "source": [
    "This code snippet imports the required libraries for working with the Transformers library, which is commonly used for natural language processing tasks. The AutoTokenizer class is used for tokenizing text data, and the AutoModelForSequenceClassification class is used for sequence classification tasks using pre-trained models. The torch library is also imported, which is the backbone for working with tensors and deep learning in PyTorch."
   ]
  },
  {
   "cell_type": "code",
   "execution_count": 1,
   "metadata": {},
   "outputs": [],
   "source": [
    "from transformers import AutoTokenizer, AutoModelForSequenceClassification\n",
    "import torch"
   ]
  },
  {
   "cell_type": "markdown",
   "metadata": {},
   "source": [
    "# 2. Instantiate Model"
   ]
  },
  {
   "cell_type": "markdown",
   "metadata": {},
   "source": [
    "In these lines of code, a pre-trained tokenizer and model are being loaded from the Hugging Face Transformers library. Specifically, the AutoTokenizer.from_pretrained() method is used to load a tokenizer, and the AutoModelForSequenceClassification.from_pretrained() method is used to load a pre-trained model. The model being loaded here is specifically designed for sentiment analysis tasks and is based on the BERT architecture. The tokenizer and model are associated with the 'nlptown/bert-base-multilingual-uncased-sentiment' model name, which indicates a BERT model that has been pre-trained for sentiment analysis on multilingual, uncased text."
   ]
  },
  {
   "cell_type": "code",
   "execution_count": 1,
   "metadata": {},
   "outputs": [
    {
     "ename": "NameError",
     "evalue": "name 'AutoTokenizer' is not defined",
     "output_type": "error",
     "traceback": [
      "\u001b[0;31m---------------------------------------------------------------------------\u001b[0m",
      "\u001b[0;31mNameError\u001b[0m                                 Traceback (most recent call last)",
      "\u001b[1;32m/Users/vinayakvats/VINAYAK/Yotube Sentimental Analysis (1).ipynb Cell 11\u001b[0m line \u001b[0;36m<cell line: 1>\u001b[0;34m()\u001b[0m\n\u001b[0;32m----> <a href='vscode-notebook-cell:/Users/vinayakvats/VINAYAK/Yotube%20Sentimental%20Analysis%20%281%29.ipynb#X13sZmlsZQ%3D%3D?line=0'>1</a>\u001b[0m tokenizer \u001b[39m=\u001b[39m AutoTokenizer\u001b[39m.\u001b[39mfrom_pretrained(\u001b[39m'\u001b[39m\u001b[39mnlptown/bert-base-multilingual-uncased-sentiment\u001b[39m\u001b[39m'\u001b[39m)\n\u001b[1;32m      <a href='vscode-notebook-cell:/Users/vinayakvats/VINAYAK/Yotube%20Sentimental%20Analysis%20%281%29.ipynb#X13sZmlsZQ%3D%3D?line=2'>3</a>\u001b[0m model \u001b[39m=\u001b[39m AutoModelForSequenceClassification\u001b[39m.\u001b[39mfrom_pretrained(\u001b[39m'\u001b[39m\u001b[39mnlptown/bert-base-multilingual-uncased-sentiment\u001b[39m\u001b[39m'\u001b[39m)\n",
      "\u001b[0;31mNameError\u001b[0m: name 'AutoTokenizer' is not defined"
     ]
    }
   ],
   "source": [
    "tokenizer = AutoTokenizer.from_pretrained('nlptown/bert-base-multilingual-uncased-sentiment')\n",
    "\n",
    "model = AutoModelForSequenceClassification.from_pretrained('nlptown/bert-base-multilingual-uncased-sentiment')"
   ]
  },
  {
   "cell_type": "markdown",
   "metadata": {},
   "source": [
    "# 3. Encode and Calculate Sentiment"
   ]
  },
  {
   "cell_type": "markdown",
   "metadata": {},
   "source": [
    "In this code, the tokenizer.encode() method is used to tokenize a given text. The text 'It was good but could\\'ve been better. Great' is provided as input to the tokenizer. The return_tensors='pt' argument specifies that the output should be returned as PyTorch tensors.\n",
    "\n",
    "Tokenization involves breaking down the input text into smaller units, typically words or subwords, and representing them as numerical IDs. These tokens are what the model actually processes. The resulting tensor tokens contains the tokenized representation of the input text."
   ]
  },
  {
   "cell_type": "code",
   "execution_count": 3,
   "metadata": {},
   "outputs": [],
   "source": [
    "# A test case to illustrate that the model is working correctly\n",
    "tokens = tokenizer.encode('It was good but couldve been better. Great', return_tensors='pt')"
   ]
  },
  {
   "cell_type": "markdown",
   "metadata": {},
   "source": [
    "In this code, the tokenized input (tokens) is passed through the pre-trained model (model) using the model's forward pass. This means that the input is processed through the layers of the model to produce an output."
   ]
  },
  {
   "cell_type": "code",
   "execution_count": 4,
   "metadata": {},
   "outputs": [],
   "source": [
    "result = model(tokens)"
   ]
  },
  {
   "cell_type": "markdown",
   "metadata": {},
   "source": [
    "In this code, the variable logits is assigned the value of the logits attribute from the result obtained by passing the tokenized input through the loaded model. The term \"logits\" generally refers to the raw scores or unnormalized predictions produced by the model before applying any activation functions or probabilities."
   ]
  },
  {
   "cell_type": "code",
   "execution_count": 5,
   "metadata": {},
   "outputs": [
    {
     "data": {
      "text/plain": [
       "tensor([[-2.7768, -1.2353,  1.4419,  1.9804,  0.4584]],\n",
       "       grad_fn=<AddmmBackward0>)"
      ]
     },
     "execution_count": 5,
     "metadata": {},
     "output_type": "execute_result"
    }
   ],
   "source": [
    "result.logits"
   ]
  },
  {
   "cell_type": "markdown",
   "metadata": {},
   "source": [
    "In this code, the torch.argmax() function is used to find the index of the element with the highest value within the logits tensor obtained from the model's output. This index corresponds to the class label that the model predicts as the most likely sentiment.\n",
    "\n",
    "Adding 1 to the index is done because class labels are often represented with a 1-based indexing (i.e., starting from 1). The variable predicted_sentiment is assigned this predicted sentiment class label."
   ]
  },
  {
   "cell_type": "code",
   "execution_count": 6,
   "metadata": {},
   "outputs": [
    {
     "data": {
      "text/plain": [
       "4"
      ]
     },
     "execution_count": 6,
     "metadata": {},
     "output_type": "execute_result"
    }
   ],
   "source": [
    "int(torch.argmax(result.logits))+1"
   ]
  },
  {
   "cell_type": "markdown",
   "metadata": {},
   "source": [
    "# 4. Collect Reviews"
   ]
  },
  {
   "cell_type": "code",
   "execution_count": 7,
   "metadata": {},
   "outputs": [],
   "source": [
    "# video_url variable taking input from user and no. of max comments to be scraped\n",
    "video_url = input(\"Enter the youtube video url: \")"
   ]
  },
  {
   "cell_type": "markdown",
   "metadata": {},
   "source": [
    "In this code snippet, the necessary libraries for web scraping using Selenium are imported. Selenium is a popular automation tool for controlling web browsers through programs. It's commonly used for tasks like web testing, interaction with web elements, and web scraping. Let's break down each import:\n",
    "\n",
    "from selenium import webdriver: This imports the webdriver module, which provides the interface to interact with a web browser. You can use it to open web pages, perform actions like clicking buttons, and extract information from web elements.\n",
    "\n",
    "from selenium.webdriver.common.by import By: This imports the By class, which is used to specify the method for locating elements on a web page. It provides various methods like By.ID, By.CLASS_NAME, By.XPATH, etc., to locate elements based on different attributes.\n",
    "\n",
    "import time: This imports the time module, which allows you to introduce delays in your script. This can be useful when interacting with web pages to give them time to load or perform actions before proceeding.\n",
    "\n",
    "Overall, these imports set up the environment for web scraping using the Selenium library."
   ]
  },
  {
   "cell_type": "code",
   "execution_count": 8,
   "metadata": {},
   "outputs": [],
   "source": [
    "from selenium import webdriver\n",
    "from selenium.webdriver.common.by import By\n",
    "import time"
   ]
  },
  {
   "cell_type": "markdown",
   "metadata": {},
   "source": [
    "This code defines a function scroll_by_amount that allows you to scroll a web page vertically by a specified amount of pixels using JavaScript. Here's what the function does:\n",
    "\n",
    "def scroll_by_amount(driver, pixels):: This defines a function named scroll_by_amount that takes two arguments: driver (a Selenium WebDriver instance) and pixels (an integer representing the number of pixels to scroll by).\n",
    "\n",
    "Inside the function, a JavaScript scroll script is created using an f-string: scroll_script = f\"window.scrollBy(0, {pixels});\". This script uses the window.scrollBy() method to scroll the web page vertically. The first argument (0) indicates horizontal scrolling (no horizontal scrolling is applied), and the second argument (pixels) indicates the vertical distance to scroll by.\n",
    "\n",
    "Finally, the execute_script() method of the WebDriver instance (driver) is used to execute the scroll script: driver.execute_script(scroll_script). This causes the web page to be scrolled by the specified number of pixels."
   ]
  },
  {
   "cell_type": "code",
   "execution_count": 9,
   "metadata": {},
   "outputs": [],
   "source": [
    "def scroll_by_amount(driver, pixels):\n",
    "    scroll_script = f\"window.scrollBy(0, {pixels});\"\n",
    "    driver.execute_script(scroll_script)"
   ]
  },
  {
   "cell_type": "markdown",
   "metadata": {},
   "source": [
    "This code defines a function scroll_by_amount that allows you to scroll a web page vertically by a specified amount of pixels using JavaScript. Here's what the function does:\n",
    "\n",
    "def scroll_by_amount(driver, pixels):: This defines a function named scroll_by_amount that takes two arguments: driver (a Selenium WebDriver instance) and pixels (an integer representing the number of pixels to scroll by).\n",
    "\n",
    "Inside the function, a JavaScript scroll script is created using an f-string: scroll_script = f\"window.scrollBy(0, {pixels});\". This script uses the window.scrollBy() method to scroll the web page vertically. The first argument (0) indicates horizontal scrolling (no horizontal scrolling is applied), and the second argument (pixels) indicates the vertical distance to scroll by.\n",
    "\n",
    "Finally, the execute_script() method of the WebDriver instance (driver) is used to execute the scroll script: driver.execute_script(scroll_script). This causes the web page to be scrolled by the specified number of pixels."
   ]
  },
  {
   "cell_type": "code",
   "execution_count": 10,
   "metadata": {},
   "outputs": [],
   "source": [
    "def read_comments_from_yt(driver, list_comments):\n",
    "    # Extract comments and commenters' names\n",
    "    comments = []\n",
    "    comment_elements = driver.find_elements(By.CSS_SELECTOR, 'yt-formatted-string#content-text')\n",
    "    for comment_element in comment_elements:\n",
    "        comment_text = comment_element.text\n",
    "        comment = comment_text.replace(\"\\n\", \" \")\n",
    "        comments.append(comment)\n",
    "\n",
    "    commenters_names = []\n",
    "    commenter_elements = driver.find_elements(By.CSS_SELECTOR, 'a#author-text')\n",
    "    for commenter_element in commenter_elements:\n",
    "        commenter_name = commenter_element.text\n",
    "        commenters_names.append(commenter_name)\n",
    "    list_comments.extend(list(zip(commenters_names, comments)))\n",
    "\n",
    "    return list_comments"
   ]
  },
  {
   "cell_type": "markdown",
   "metadata": {},
   "source": [
    "This code defines a function read_more_button that is designed to click on \"Read More\" buttons on a web page to expand content. Here's how the function works:\n",
    "\n",
    "def read_more_button(driver):: This defines a function named read_more_button that takes one argument: driver (a Selenium WebDriver instance).\n",
    "\n",
    "Inside the function, the driver.find_elements() method is used to locate all elements with the XPath '//tp-yt-paper-button[@id=\"more\"]'. This XPath expression targets \"Read More\" buttons that have the attribute id set to \"more\". The located buttons are stored in the read_more_buttons list.\n",
    "\n",
    "A for loop iterates over each button in the read_more_buttons list.\n",
    "\n",
    "Inside the loop, the try block attempts to click on the current button using the button.click() method. Clicking on the \"Read More\" button is an attempt to expand or reveal hidden content on the web page.\n",
    "\n",
    "After clicking the button, there's a time.sleep(1) statement to introduce a 1-second delay. This is to give time for comments or content to load after clicking the button. The time module is being used here to provide the delay.\n",
    "\n",
    "If any exceptions occur while trying to click the button (e.g., if the button is not clickable or if an error occurs), the except block catches the exception and does nothing (pass).\n",
    "\n",
    "This function is useful for scenarios where you want to expand content that is initially hidden behind \"Read More\" buttons on a web page."
   ]
  },
  {
   "cell_type": "code",
   "execution_count": 11,
   "metadata": {},
   "outputs": [],
   "source": [
    "def read_more_button(driver):\n",
    "    read_more_buttons = driver.find_elements(By.XPATH, '//tp-yt-paper-button[@id=\"more\"]')\n",
    "    for button in read_more_buttons:\n",
    "        try:\n",
    "            button.click()\n",
    "            time.sleep(1)  # Give time for comments to load after clicking\n",
    "        except:\n",
    "            pass  # Ignore any exceptions thrown by clicking the button"
   ]
  },
  {
   "cell_type": "markdown",
   "metadata": {},
   "source": [
    "This function is designed to scrape comments from a YouTube video using Selenium. Here's how the function works:\n",
    "\n",
    "def get_youtube_comments(video_url, max_comments=200):: This defines a function named get_youtube_comments that takes two arguments: video_url (the URL of the YouTube video) and max_comments (the maximum number of comments to scrape, with a default value of 200).\n",
    "\n",
    "A Chrome WebDriver is initialized using webdriver.Chrome(). You might need to specify the path to your ChromeDriver executable if needed. The driver.get(video_url) line opens the specified YouTube video URL.\n",
    "\n",
    "A 5-second delay is introduced using time.sleep(5) to allow the page to load.\n",
    "\n",
    "max_comments is incremented by 1 to accommodate the list_comments slicing later on.\n",
    "\n",
    "A loop runs indefinitely (breaking based on conditions) to scroll down the page and load comments. The variable scroll_amount controls the amount of vertical scrolling.\n",
    "\n",
    "Inside the loop, the scroll_by_amount function scrolls the page, and then a 2-second delay is introduced to allow content to load.\n",
    "\n",
    "The variable new_height stores the updated height of the page after scrolling.\n",
    "\n",
    "The number of loaded comments in the current scroll is calculated using new_comments_loaded. This is obtained by finding elements with a specific CSS selector ('yt-formatted-string#content-text'), which corresponds to comment content.\n",
    "\n",
    "The read_more_button function is called to click on \"Read more\" buttons and reveal full comments. The read_comments_from_yt function (not provided) is used to read the comments and append them to the list_comments list.\n",
    "\n",
    "The loop checks whether the number of comments loaded is the same as in the previous scroll (new_comments_loaded == pre_comments_loaded) or if the number of loaded comments exceeds the maximum allowed comments (new_comments_loaded > max_comments). If either condition is met, the loop is broken.\n",
    "\n",
    "The variable pre_comments_loaded is updated with the number of comments loaded before scrolling again.\n",
    "\n",
    "After exiting the loop, the WebDriver is closed using driver.quit().\n",
    "\n",
    "The list_comments list is sliced to include comments from index 1 up to max_comments.\n",
    "\n",
    "The function returns the list_comments containing the scraped comments."
   ]
  },
  {
   "cell_type": "code",
   "execution_count": 12,
   "metadata": {},
   "outputs": [],
   "source": [
    "def get_youtube_comments(video_url, max_comments=200):\n",
    "    driver = webdriver.Chrome()  # Change to the path of your ChromeDriver executable if needed\n",
    "    driver.get(video_url)\n",
    "    time.sleep(5)  # Allow time for the page to load\n",
    "    max_comments+=1\n",
    "\n",
    "    list_comments = []\n",
    "    # Scroll down by a specific amount\n",
    "    scroll_amount = 625  # Adjust this value as needed\n",
    "    pre_comments_loaded = new_comments_loaded =0\n",
    "\n",
    "    while True:\n",
    "        scroll_by_amount(driver, scroll_amount)\n",
    "        time.sleep(2)  # Add a small delay to allow content to load\n",
    "        new_height = driver.execute_script(\"return document.body.scrollHeight\")\n",
    "        \n",
    "        # Calculate the number of comments loaded in this scroll\n",
    "        new_comments_loaded += len(driver.find_elements(By.CSS_SELECTOR, 'yt-formatted-string#content-text'))\n",
    "        # print(new_comments_loaded, pre_comments_loaded, max_comments)\n",
    "\n",
    "        read_more_button(driver)  # Click all \"Read more\" buttons to load full comments\n",
    "        list_comments = read_comments_from_yt(driver, list_comments)  # Read the comments and append to list\n",
    "\n",
    "        if new_comments_loaded == pre_comments_loaded or new_comments_loaded > max_comments:\n",
    "            break\n",
    "        pre_comments_loaded = new_comments_loaded # Update the number of loaded comments before scrolling\n",
    "        \n",
    "    driver.quit()\n",
    "\n",
    "    list_comments = list_comments[1:max_comments]\n",
    "    return list_comments\n"
   ]
  },
  {
   "cell_type": "markdown",
   "metadata": {},
   "source": [
    "get_youtube_comments function to scrape comments from a YouTube video. The len(comments) line is used to print the number of comments that were scraped from the YouTube video using the get_youtube_comments function. It will output the count of comments that were stored in the comments list after scraping."
   ]
  },
  {
   "cell_type": "code",
   "execution_count": 13,
   "metadata": {},
   "outputs": [
    {
     "name": "stdout",
     "output_type": "stream",
     "text": [
      "200\n"
     ]
    }
   ],
   "source": [
    "comments = get_youtube_comments(video_url)\n",
    "print(len(comments))"
   ]
  },
  {
   "cell_type": "code",
   "execution_count": 14,
   "metadata": {},
   "outputs": [
    {
     "name": "stdout",
     "output_type": "stream",
     "text": [
      "Commenter: @bosefoundation\n",
      "Comment: Purchased the movie. Fell in love with the concept. Fell in love with Nolan.\n",
      "\n",
      "Commenter: @mohanmuralidharangangadhar9202\n",
      "Comment: Who don't purchased the premium and came for just read the comments like here ️\n",
      "\n",
      "Commenter: @anwzdewan6969\n",
      "Comment: This movie was inspired from an anime called \"Paprika\" but Christopher Nolan outdid himself and made it better than the original. He deserves the fame he has.\n",
      "\n",
      "Commenter: @youtubechannel1363\n",
      "Comment: \n",
      "\n",
      "Commenter: @ashishkhetpal\n",
      "Comment: Bought on rent with google's own money that he paid me for rewards...Each penny was worth it.  Mind-blowing   Christopher Nolan is the best director this generation had.  Now off to his another epic   Oppenheimer.\n",
      "\n",
      "Commenter: @priyasingh9.940\n",
      "Comment: Beautiful\n",
      "\n",
      "Commenter: @ankushkr630\n",
      "Comment: Paisa ni hai dekhne ke liye \n",
      "\n",
      "Commenter: @7normalboysfromsouthkorea740\n",
      "Comment: This is suga's favourite movie \n",
      "\n",
      "Commenter: @shahwezkhan4984\n",
      "Comment: Love this movie\n",
      "\n",
      "Commenter: @vswapa8276\n",
      "Comment: Mind burning Film\n",
      "\n",
      "Commenter: @sidbeyonder9613\n",
      "Comment: Why does it say 2020 when the movie was released in 2010?\n",
      "\n",
      "Commenter: @arshadmolla5246\n",
      "Comment: Nice movie ... I purchased yesterday \n",
      "\n",
      "Commenter: @ex_gamer8885\n",
      "Comment: Watch this movie, people\n",
      "\n",
      "Commenter: @ProbablySlyvester\n",
      "Comment: \n",
      "\n",
      "Commenter: @Detective97\n",
      "Comment: why does it have a 2020 release date.....10 years late..\n",
      "\n",
      "Commenter: @jahaapana\n",
      "Comment: from worm holes to atomic bombs.... I mean.... Look at his range...!!\n",
      "\n",
      "Commenter: @crazyboys6773\n",
      "Comment: Wow wow wow\n",
      "\n",
      "Commenter: @Xunoh\n",
      "Comment: I keep coming back\n",
      "\n",
      "Commenter: @saurabh-ny8cn\n",
      "Comment: \n",
      "\n",
      "Commenter: @roshan7129\n",
      "Comment: The power of the subconscious mind\n",
      "\n",
      "Commenter: @bosefoundation\n",
      "Comment: Purchased the movie. Fell in love with the concept. Fell in love with Nolan.\n",
      "\n",
      "Commenter: @mohanmuralidharangangadhar9202\n",
      "Comment: Who don't purchased the premium and came for just read the comments like here ️\n",
      "\n",
      "Commenter: @anwzdewan6969\n",
      "Comment: This movie was inspired from an anime called \"Paprika\" but Christopher Nolan outdid himself and made it better than the original. He deserves the fame he has.\n",
      "\n",
      "Commenter: @youtubechannel1363\n",
      "Comment: \n",
      "\n",
      "Commenter: @ashishkhetpal\n",
      "Comment: Bought on rent with google's own money that he paid me for rewards...Each penny was worth it.  Mind-blowing   Christopher Nolan is the best director this generation had.  Now off to his another epic   Oppenheimer.\n",
      "\n",
      "Commenter: @priyasingh9.940\n",
      "Comment: Beautiful\n",
      "\n",
      "Commenter: @ankushkr630\n",
      "Comment: Paisa ni hai dekhne ke liye \n",
      "\n",
      "Commenter: @7normalboysfromsouthkorea740\n",
      "Comment: This is suga's favourite movie \n",
      "\n",
      "Commenter: @shahwezkhan4984\n",
      "Comment: Love this movie\n",
      "\n",
      "Commenter: @vswapa8276\n",
      "Comment: Mind burning Film\n",
      "\n",
      "Commenter: @sidbeyonder9613\n",
      "Comment: Why does it say 2020 when the movie was released in 2010?\n",
      "\n",
      "Commenter: @arshadmolla5246\n",
      "Comment: Nice movie ... I purchased yesterday \n",
      "\n",
      "Commenter: @ex_gamer8885\n",
      "Comment: Watch this movie, people\n",
      "\n",
      "Commenter: @ProbablySlyvester\n",
      "Comment: \n",
      "\n",
      "Commenter: @Detective97\n",
      "Comment: why does it have a 2020 release date.....10 years late..\n",
      "\n",
      "Commenter: @jahaapana\n",
      "Comment: from worm holes to atomic bombs.... I mean.... Look at his range...!!\n",
      "\n",
      "Commenter: @crazyboys6773\n",
      "Comment: Wow wow wow\n",
      "\n",
      "Commenter: @Xunoh\n",
      "Comment: I keep coming back\n",
      "\n",
      "Commenter: @saurabh-ny8cn\n",
      "Comment: \n",
      "\n",
      "Commenter: @roshan7129\n",
      "Comment: The power of the subconscious mind\n",
      "\n",
      "Commenter: @bosefoundation\n",
      "Comment: Purchased the movie. Fell in love with the concept. Fell in love with Nolan.\n",
      "\n",
      "Commenter: @mohanmuralidharangangadhar9202\n",
      "Comment: Who don't purchased the premium and came for just read the comments like here ️\n",
      "\n",
      "Commenter: @anwzdewan6969\n",
      "Comment: This movie was inspired from an anime called \"Paprika\" but Christopher Nolan outdid himself and made it better than the original. He deserves the fame he has.\n",
      "\n",
      "Commenter: @youtubechannel1363\n",
      "Comment: \n",
      "\n",
      "Commenter: @ashishkhetpal\n",
      "Comment: Bought on rent with google's own money that he paid me for rewards...Each penny was worth it.  Mind-blowing   Christopher Nolan is the best director this generation had.  Now off to his another epic   Oppenheimer.\n",
      "\n",
      "Commenter: @priyasingh9.940\n",
      "Comment: Beautiful\n",
      "\n",
      "Commenter: @ankushkr630\n",
      "Comment: Paisa ni hai dekhne ke liye \n",
      "\n",
      "Commenter: @7normalboysfromsouthkorea740\n",
      "Comment: This is suga's favourite movie \n",
      "\n",
      "Commenter: @shahwezkhan4984\n",
      "Comment: Love this movie\n",
      "\n",
      "Commenter: @vswapa8276\n",
      "Comment: Mind burning Film\n",
      "\n",
      "Commenter: @sidbeyonder9613\n",
      "Comment: Why does it say 2020 when the movie was released in 2010?\n",
      "\n",
      "Commenter: @arshadmolla5246\n",
      "Comment: Nice movie ... I purchased yesterday \n",
      "\n",
      "Commenter: @ex_gamer8885\n",
      "Comment: Watch this movie, people\n",
      "\n",
      "Commenter: @ProbablySlyvester\n",
      "Comment: \n",
      "\n",
      "Commenter: @Detective97\n",
      "Comment: why does it have a 2020 release date.....10 years late..\n",
      "\n",
      "Commenter: @jahaapana\n",
      "Comment: from worm holes to atomic bombs.... I mean.... Look at his range...!!\n",
      "\n",
      "Commenter: @crazyboys6773\n",
      "Comment: Wow wow wow\n",
      "\n",
      "Commenter: @Xunoh\n",
      "Comment: I keep coming back\n",
      "\n",
      "Commenter: @saurabh-ny8cn\n",
      "Comment: \n",
      "\n",
      "Commenter: @roshan7129\n",
      "Comment: The power of the subconscious mind\n",
      "\n",
      "Commenter: @bosefoundation\n",
      "Comment: Purchased the movie. Fell in love with the concept. Fell in love with Nolan.\n",
      "\n",
      "Commenter: @mohanmuralidharangangadhar9202\n",
      "Comment: Who don't purchased the premium and came for just read the comments like here ️\n",
      "\n",
      "Commenter: @anwzdewan6969\n",
      "Comment: This movie was inspired from an anime called \"Paprika\" but Christopher Nolan outdid himself and made it better than the original. He deserves the fame he has.\n",
      "\n",
      "Commenter: @youtubechannel1363\n",
      "Comment: \n",
      "\n",
      "Commenter: @ashishkhetpal\n",
      "Comment: Bought on rent with google's own money that he paid me for rewards...Each penny was worth it.  Mind-blowing   Christopher Nolan is the best director this generation had.  Now off to his another epic   Oppenheimer.\n",
      "\n",
      "Commenter: @priyasingh9.940\n",
      "Comment: Beautiful\n",
      "\n",
      "Commenter: @ankushkr630\n",
      "Comment: Paisa ni hai dekhne ke liye \n",
      "\n",
      "Commenter: @7normalboysfromsouthkorea740\n",
      "Comment: This is suga's favourite movie \n",
      "\n",
      "Commenter: @shahwezkhan4984\n",
      "Comment: Love this movie\n",
      "\n",
      "Commenter: @vswapa8276\n",
      "Comment: Mind burning Film\n",
      "\n",
      "Commenter: @sidbeyonder9613\n",
      "Comment: Why does it say 2020 when the movie was released in 2010?\n",
      "\n",
      "Commenter: @arshadmolla5246\n",
      "Comment: Nice movie ... I purchased yesterday \n",
      "\n",
      "Commenter: @ex_gamer8885\n",
      "Comment: Watch this movie, people\n",
      "\n",
      "Commenter: @ProbablySlyvester\n",
      "Comment: \n",
      "\n",
      "Commenter: @Detective97\n",
      "Comment: why does it have a 2020 release date.....10 years late..\n",
      "\n",
      "Commenter: @jahaapana\n",
      "Comment: from worm holes to atomic bombs.... I mean.... Look at his range...!!\n",
      "\n",
      "Commenter: @crazyboys6773\n",
      "Comment: Wow wow wow\n",
      "\n",
      "Commenter: @Xunoh\n",
      "Comment: I keep coming back\n",
      "\n",
      "Commenter: @saurabh-ny8cn\n",
      "Comment: \n",
      "\n",
      "Commenter: @ASH_x_007\n",
      "Comment: Woooooowww\n",
      "\n",
      "Commenter: @ayushikimummy4355\n",
      "Comment: Superb movie\n",
      "\n",
      "Commenter: @anilyogi9743\n",
      "Comment: I'm unable to watch it on t v by mirror screen. . Pls help\n",
      "\n",
      "Commenter: @NaveenKumar-vi2ec\n",
      "Comment: Batman vs Superman\n",
      "\n",
      "Commenter: @venkman6489\n",
      "Comment: Tamil available???\n",
      "\n",
      "Commenter: @amitbhishikar3274\n",
      "Comment: Should came in hindi version\n",
      "\n",
      "Commenter: @shorts_for_you\n",
      "Comment: I perched it, but it isn't in hindi language, my money is wasted\n",
      "\n",
      "Commenter: @Amit--yadav_26110\n",
      "Comment: Is it available in Hindi\n",
      "\n",
      "Commenter: @immuofficial1997\n",
      "Comment: \n",
      "\n",
      "Commenter: @rajan1977uday\n",
      "Comment: Pehle istemal Karen phir viswas karen\n",
      "\n",
      "Commenter: @jaswantrohila3776\n",
      "Comment: Best movie\n",
      "\n",
      "Commenter: @sabipreeti2173\n",
      "Comment: Hindi me kaise dekhe\n",
      "\n",
      "Commenter: @dlsajunagadh4324\n",
      "Comment: I want in Hindi Language\n",
      "\n",
      "Commenter: @saktiswain9280\n",
      "Comment: Whoever got across the concept of this mind bending movie & many more like Interstellar, Avatar, matrix, star wars might not know that all of these concepts come from theories of \"Hinduism\".\n",
      "\n",
      "Commenter: @fearlessgamer178\n",
      "Comment: paisa\n",
      "\n",
      "Commenter: @sobinvarghese5642\n",
      "Comment: NO PAYMENT NO MOVIE\n",
      "\n",
      "Commenter: @zeetantry1282\n",
      "Comment: Why isn't my video playing?\n",
      "\n",
      "Commenter: @Muhamamadi\n",
      "Comment: nice\n",
      "\n",
      "Commenter: @lpmalviya8292\n",
      "Comment: No hindi no inception\n",
      "\n",
      "Commenter: @yash-mu3bz\n",
      "Comment: wtf\n",
      "\n",
      "Commenter: @roshan7129\n",
      "Comment: The power of the subconscious mind\n",
      "\n",
      "Commenter: @bosefoundation\n",
      "Comment: Purchased the movie. Fell in love with the concept. Fell in love with Nolan.\n",
      "\n",
      "Commenter: @mohanmuralidharangangadhar9202\n",
      "Comment: Who don't purchased the premium and came for just read the comments like here ️\n",
      "\n",
      "Commenter: @anwzdewan6969\n",
      "Comment: This movie was inspired from an anime called \"Paprika\" but Christopher Nolan outdid himself and made it better than the original. He deserves the fame he has.\n",
      "\n",
      "Commenter: @youtubechannel1363\n",
      "Comment: \n",
      "\n",
      "Commenter: @ashishkhetpal\n",
      "Comment: Bought on rent with google's own money that he paid me for rewards...Each penny was worth it.  Mind-blowing   Christopher Nolan is the best director this generation had.  Now off to his another epic   Oppenheimer.\n",
      "\n",
      "Commenter: @priyasingh9.940\n",
      "Comment: Beautiful\n",
      "\n",
      "Commenter: @ankushkr630\n",
      "Comment: Paisa ni hai dekhne ke liye \n",
      "\n",
      "Commenter: @7normalboysfromsouthkorea740\n",
      "Comment: This is suga's favourite movie \n",
      "\n",
      "Commenter: @shahwezkhan4984\n",
      "Comment: Love this movie\n",
      "\n",
      "Commenter: @vswapa8276\n",
      "Comment: Mind burning Film\n",
      "\n",
      "Commenter: @sidbeyonder9613\n",
      "Comment: Why does it say 2020 when the movie was released in 2010?\n",
      "\n",
      "Commenter: @arshadmolla5246\n",
      "Comment: Nice movie ... I purchased yesterday \n",
      "\n",
      "Commenter: @ex_gamer8885\n",
      "Comment: Watch this movie, people\n",
      "\n",
      "Commenter: @ProbablySlyvester\n",
      "Comment: \n",
      "\n",
      "Commenter: @Detective97\n",
      "Comment: why does it have a 2020 release date.....10 years late..\n",
      "\n",
      "Commenter: @jahaapana\n",
      "Comment: from worm holes to atomic bombs.... I mean.... Look at his range...!!\n",
      "\n",
      "Commenter: @crazyboys6773\n",
      "Comment: Wow wow wow\n",
      "\n",
      "Commenter: @Xunoh\n",
      "Comment: I keep coming back\n",
      "\n",
      "Commenter: @saurabh-ny8cn\n",
      "Comment: \n",
      "\n",
      "Commenter: @ASH_x_007\n",
      "Comment: Woooooowww\n",
      "\n",
      "Commenter: @ayushikimummy4355\n",
      "Comment: Superb movie\n",
      "\n",
      "Commenter: @anilyogi9743\n",
      "Comment: I'm unable to watch it on t v by mirror screen. . Pls help\n",
      "\n",
      "Commenter: @NaveenKumar-vi2ec\n",
      "Comment: Batman vs Superman\n",
      "\n",
      "Commenter: @venkman6489\n",
      "Comment: Tamil available???\n",
      "\n",
      "Commenter: @amitbhishikar3274\n",
      "Comment: Should came in hindi version\n",
      "\n",
      "Commenter: @shorts_for_you\n",
      "Comment: I perched it, but it isn't in hindi language, my money is wasted\n",
      "\n",
      "Commenter: @Amit--yadav_26110\n",
      "Comment: Is it available in Hindi\n",
      "\n",
      "Commenter: @immuofficial1997\n",
      "Comment: \n",
      "\n",
      "Commenter: @rajan1977uday\n",
      "Comment: Pehle istemal Karen phir viswas karen\n",
      "\n",
      "Commenter: @jaswantrohila3776\n",
      "Comment: Best movie\n",
      "\n",
      "Commenter: @sabipreeti2173\n",
      "Comment: Hindi me kaise dekhe\n",
      "\n",
      "Commenter: @dlsajunagadh4324\n",
      "Comment: I want in Hindi Language\n",
      "\n",
      "Commenter: @saktiswain9280\n",
      "Comment: Whoever got across the concept of this mind bending movie & many more like Interstellar, Avatar, matrix, star wars might not know that all of these concepts come from theories of \"Hinduism\".\n",
      "\n",
      "Commenter: @fearlessgamer178\n",
      "Comment: paisa\n",
      "\n",
      "Commenter: @sobinvarghese5642\n",
      "Comment: NO PAYMENT NO MOVIE\n",
      "\n",
      "Commenter: @zeetantry1282\n",
      "Comment: Why isn't my video playing?\n",
      "\n",
      "Commenter: @Muhamamadi\n",
      "Comment: nice\n",
      "\n",
      "Commenter: @lpmalviya8292\n",
      "Comment: No hindi no inception\n",
      "\n",
      "Commenter: @yash-mu3bz\n",
      "Comment: wtf\n",
      "\n",
      "Commenter: @roshan7129\n",
      "Comment: The power of the subconscious mind\n",
      "\n",
      "Commenter: @bosefoundation\n",
      "Comment: Purchased the movie. Fell in love with the concept. Fell in love with Nolan.\n",
      "\n",
      "Commenter: @mohanmuralidharangangadhar9202\n",
      "Comment: Who don't purchased the premium and came for just read the comments like here ️\n",
      "\n",
      "Commenter: @anwzdewan6969\n",
      "Comment: This movie was inspired from an anime called \"Paprika\" but Christopher Nolan outdid himself and made it better than the original. He deserves the fame he has.\n",
      "\n",
      "Commenter: @youtubechannel1363\n",
      "Comment: \n",
      "\n",
      "Commenter: @ashishkhetpal\n",
      "Comment: Bought on rent with google's own money that he paid me for rewards...Each penny was worth it.  Mind-blowing   Christopher Nolan is the best director this generation had.  Now off to his another epic   Oppenheimer.\n",
      "\n",
      "Commenter: @priyasingh9.940\n",
      "Comment: Beautiful\n",
      "\n",
      "Commenter: @ankushkr630\n",
      "Comment: Paisa ni hai dekhne ke liye \n",
      "\n",
      "Commenter: @7normalboysfromsouthkorea740\n",
      "Comment: This is suga's favourite movie \n",
      "\n",
      "Commenter: @shahwezkhan4984\n",
      "Comment: Love this movie\n",
      "\n",
      "Commenter: @vswapa8276\n",
      "Comment: Mind burning Film\n",
      "\n",
      "Commenter: @sidbeyonder9613\n",
      "Comment: Why does it say 2020 when the movie was released in 2010?\n",
      "\n",
      "Commenter: @arshadmolla5246\n",
      "Comment: Nice movie ... I purchased yesterday \n",
      "\n",
      "Commenter: @ex_gamer8885\n",
      "Comment: Watch this movie, people\n",
      "\n",
      "Commenter: @ProbablySlyvester\n",
      "Comment: \n",
      "\n",
      "Commenter: @Detective97\n",
      "Comment: why does it have a 2020 release date.....10 years late..\n",
      "\n",
      "Commenter: @jahaapana\n",
      "Comment: from worm holes to atomic bombs.... I mean.... Look at his range...!!\n",
      "\n",
      "Commenter: @crazyboys6773\n",
      "Comment: Wow wow wow\n",
      "\n",
      "Commenter: @Xunoh\n",
      "Comment: I keep coming back\n",
      "\n",
      "Commenter: @saurabh-ny8cn\n",
      "Comment: \n",
      "\n",
      "Commenter: @ASH_x_007\n",
      "Comment: Woooooowww\n",
      "\n",
      "Commenter: @ayushikimummy4355\n",
      "Comment: Superb movie\n",
      "\n",
      "Commenter: @anilyogi9743\n",
      "Comment: I'm unable to watch it on t v by mirror screen. . Pls help\n",
      "\n",
      "Commenter: @NaveenKumar-vi2ec\n",
      "Comment: Batman vs Superman\n",
      "\n",
      "Commenter: @venkman6489\n",
      "Comment: Tamil available???\n",
      "\n",
      "Commenter: @amitbhishikar3274\n",
      "Comment: Should came in hindi version\n",
      "\n",
      "Commenter: @shorts_for_you\n",
      "Comment: I perched it, but it isn't in hindi language, my money is wasted\n",
      "\n",
      "Commenter: @Amit--yadav_26110\n",
      "Comment: Is it available in Hindi\n",
      "\n",
      "Commenter: @immuofficial1997\n",
      "Comment: \n",
      "\n",
      "Commenter: @rajan1977uday\n",
      "Comment: Pehle istemal Karen phir viswas karen\n",
      "\n",
      "Commenter: @jaswantrohila3776\n",
      "Comment: Best movie\n",
      "\n",
      "Commenter: @sabipreeti2173\n",
      "Comment: Hindi me kaise dekhe\n",
      "\n",
      "Commenter: @dlsajunagadh4324\n",
      "Comment: I want in Hindi Language\n",
      "\n",
      "Commenter: @saktiswain9280\n",
      "Comment: Whoever got across the concept of this mind bending movie & many more like Interstellar, Avatar, matrix, star wars might not know that all of these concepts come from theories of \"Hinduism\".\n",
      "\n",
      "Commenter: @fearlessgamer178\n",
      "Comment: paisa\n",
      "\n",
      "Commenter: @sobinvarghese5642\n",
      "Comment: NO PAYMENT NO MOVIE\n",
      "\n",
      "Commenter: @zeetantry1282\n",
      "Comment: Why isn't my video playing?\n",
      "\n",
      "Commenter: @Muhamamadi\n",
      "Comment: nice\n",
      "\n",
      "Commenter: @lpmalviya8292\n",
      "Comment: No hindi no inception\n",
      "\n",
      "Commenter: @yash-mu3bz\n",
      "Comment: wtf\n",
      "\n",
      "Commenter: @roshan7129\n",
      "Comment: The power of the subconscious mind\n",
      "\n",
      "Commenter: @bosefoundation\n",
      "Comment: Purchased the movie. Fell in love with the concept. Fell in love with Nolan.\n",
      "\n",
      "Commenter: @mohanmuralidharangangadhar9202\n",
      "Comment: Who don't purchased the premium and came for just read the comments like here ️\n",
      "\n",
      "Commenter: @anwzdewan6969\n",
      "Comment: This movie was inspired from an anime called \"Paprika\" but Christopher Nolan outdid himself and made it better than the original. He deserves the fame he has.\n",
      "\n",
      "Commenter: @youtubechannel1363\n",
      "Comment: \n",
      "\n",
      "Commenter: @ashishkhetpal\n",
      "Comment: Bought on rent with google's own money that he paid me for rewards...Each penny was worth it.  Mind-blowing   Christopher Nolan is the best director this generation had.  Now off to his another epic   Oppenheimer.\n",
      "\n",
      "Commenter: @priyasingh9.940\n",
      "Comment: Beautiful\n",
      "\n",
      "Commenter: @ankushkr630\n",
      "Comment: Paisa ni hai dekhne ke liye \n",
      "\n",
      "Commenter: @7normalboysfromsouthkorea740\n",
      "Comment: This is suga's favourite movie \n",
      "\n",
      "Commenter: @shahwezkhan4984\n",
      "Comment: Love this movie\n",
      "\n",
      "Commenter: @vswapa8276\n",
      "Comment: Mind burning Film\n",
      "\n",
      "Commenter: @sidbeyonder9613\n",
      "Comment: Why does it say 2020 when the movie was released in 2010?\n",
      "\n",
      "Commenter: @arshadmolla5246\n",
      "Comment: Nice movie ... I purchased yesterday \n",
      "\n",
      "Commenter: @ex_gamer8885\n",
      "Comment: Watch this movie, people\n",
      "\n",
      "Commenter: @ProbablySlyvester\n",
      "Comment: \n",
      "\n",
      "Commenter: @Detective97\n",
      "Comment: why does it have a 2020 release date.....10 years late..\n",
      "\n",
      "Commenter: @jahaapana\n",
      "Comment: from worm holes to atomic bombs.... I mean.... Look at his range...!!\n",
      "\n",
      "Commenter: @crazyboys6773\n",
      "Comment: Wow wow wow\n",
      "\n",
      "Commenter: @Xunoh\n",
      "Comment: I keep coming back\n",
      "\n",
      "Commenter: @saurabh-ny8cn\n",
      "Comment: \n",
      "\n",
      "Commenter: @ASH_x_007\n",
      "Comment: Woooooowww\n",
      "\n"
     ]
    }
   ],
   "source": [
    "for commenter, comment in comments:\n",
    "    print(f\"Commenter: {commenter}\\nComment: {comment}\\n\")"
   ]
  },
  {
   "cell_type": "markdown",
   "metadata": {},
   "source": [
    "# 5. Load Reviews into DataFrame and Score"
   ]
  },
  {
   "cell_type": "markdown",
   "metadata": {},
   "source": [
    "import seaborn as sns: This imports the seaborn library, which is a popular data visualization library built on top of matplotlib. It provides a high-level interface for creating attractive and informative statistical graphics. It's often used to create visually appealing visualizations with minimal code.\n",
    "\n",
    "import pandas as pd: This imports the pandas library and assigns it the alias pd. pandas is a widely used library for data manipulation and analysis in Python. It provides data structures like DataFrames and Series, as well as various functions and methods for data cleaning, transformation, aggregation, and more."
   ]
  },
  {
   "cell_type": "code",
   "execution_count": 15,
   "metadata": {},
   "outputs": [],
   "source": [
    "import seaborn as sns\n",
    "import pandas as pd"
   ]
  },
  {
   "cell_type": "markdown",
   "metadata": {},
   "source": [
    "df: This line initializes a DataFrame named df using the pandas library.\n",
    "\n",
    "pd.DataFrame(comments, columns=['user', 'comment']): This line creates a DataFrame from the comments list that you obtained by scraping YouTube comments. The comments list is used as the data source for the DataFrame. The columns parameter is used to specify the column names for the DataFrame. In this case, you're specifying two columns: 'user' and 'comment'."
   ]
  },
  {
   "cell_type": "code",
   "execution_count": 16,
   "metadata": {},
   "outputs": [],
   "source": [
    "df = pd.DataFrame(comments, columns=['user','comment'])"
   ]
  },
  {
   "cell_type": "code",
   "execution_count": 17,
   "metadata": {},
   "outputs": [
    {
     "data": {
      "text/html": [
       "<div>\n",
       "<style scoped>\n",
       "    .dataframe tbody tr th:only-of-type {\n",
       "        vertical-align: middle;\n",
       "    }\n",
       "\n",
       "    .dataframe tbody tr th {\n",
       "        vertical-align: top;\n",
       "    }\n",
       "\n",
       "    .dataframe thead th {\n",
       "        text-align: right;\n",
       "    }\n",
       "</style>\n",
       "<table border=\"1\" class=\"dataframe\">\n",
       "  <thead>\n",
       "    <tr style=\"text-align: right;\">\n",
       "      <th></th>\n",
       "      <th>user</th>\n",
       "      <th>comment</th>\n",
       "    </tr>\n",
       "  </thead>\n",
       "  <tbody>\n",
       "    <tr>\n",
       "      <th>0</th>\n",
       "      <td>@bosefoundation</td>\n",
       "      <td>Purchased the movie. Fell in love with the con...</td>\n",
       "    </tr>\n",
       "    <tr>\n",
       "      <th>1</th>\n",
       "      <td>@mohanmuralidharangangadhar9202</td>\n",
       "      <td>Who don't purchased the premium and came for j...</td>\n",
       "    </tr>\n",
       "    <tr>\n",
       "      <th>2</th>\n",
       "      <td>@anwzdewan6969</td>\n",
       "      <td>This movie was inspired from an anime called \"...</td>\n",
       "    </tr>\n",
       "    <tr>\n",
       "      <th>3</th>\n",
       "      <td>@youtubechannel1363</td>\n",
       "      <td></td>\n",
       "    </tr>\n",
       "    <tr>\n",
       "      <th>4</th>\n",
       "      <td>@ashishkhetpal</td>\n",
       "      <td>Bought on rent with google's own money that he...</td>\n",
       "    </tr>\n",
       "    <tr>\n",
       "      <th>...</th>\n",
       "      <td>...</td>\n",
       "      <td>...</td>\n",
       "    </tr>\n",
       "    <tr>\n",
       "      <th>195</th>\n",
       "      <td>@jahaapana</td>\n",
       "      <td>from worm holes to atomic bombs.... I mean.......</td>\n",
       "    </tr>\n",
       "    <tr>\n",
       "      <th>196</th>\n",
       "      <td>@crazyboys6773</td>\n",
       "      <td>Wow wow wow</td>\n",
       "    </tr>\n",
       "    <tr>\n",
       "      <th>197</th>\n",
       "      <td>@Xunoh</td>\n",
       "      <td>I keep coming back</td>\n",
       "    </tr>\n",
       "    <tr>\n",
       "      <th>198</th>\n",
       "      <td>@saurabh-ny8cn</td>\n",
       "      <td></td>\n",
       "    </tr>\n",
       "    <tr>\n",
       "      <th>199</th>\n",
       "      <td>@ASH_x_007</td>\n",
       "      <td>Woooooowww</td>\n",
       "    </tr>\n",
       "  </tbody>\n",
       "</table>\n",
       "<p>200 rows × 2 columns</p>\n",
       "</div>"
      ],
      "text/plain": [
       "                                user  \\\n",
       "0                    @bosefoundation   \n",
       "1    @mohanmuralidharangangadhar9202   \n",
       "2                     @anwzdewan6969   \n",
       "3                @youtubechannel1363   \n",
       "4                     @ashishkhetpal   \n",
       "..                               ...   \n",
       "195                       @jahaapana   \n",
       "196                   @crazyboys6773   \n",
       "197                           @Xunoh   \n",
       "198                   @saurabh-ny8cn   \n",
       "199                       @ASH_x_007   \n",
       "\n",
       "                                               comment  \n",
       "0    Purchased the movie. Fell in love with the con...  \n",
       "1    Who don't purchased the premium and came for j...  \n",
       "2    This movie was inspired from an anime called \"...  \n",
       "3                                                       \n",
       "4    Bought on rent with google's own money that he...  \n",
       "..                                                 ...  \n",
       "195  from worm holes to atomic bombs.... I mean.......  \n",
       "196                                        Wow wow wow  \n",
       "197                                 I keep coming back  \n",
       "198                                                     \n",
       "199                                         Woooooowww  \n",
       "\n",
       "[200 rows x 2 columns]"
      ]
     },
     "execution_count": 17,
     "metadata": {},
     "output_type": "execute_result"
    }
   ],
   "source": [
    "df"
   ]
  },
  {
   "cell_type": "markdown",
   "metadata": {},
   "source": [
    "The code df['comment'].iloc[0] is used to retrieve the comment from the first row of the 'comment' column in the DataFrame df."
   ]
  },
  {
   "cell_type": "code",
   "execution_count": 18,
   "metadata": {},
   "outputs": [
    {
     "data": {
      "text/plain": [
       "'Purchased the movie. Fell in love with the concept. Fell in love with Nolan.'"
      ]
     },
     "execution_count": 18,
     "metadata": {},
     "output_type": "execute_result"
    }
   ],
   "source": [
    "df['comment'].iloc[0]"
   ]
  },
  {
   "cell_type": "markdown",
   "metadata": {},
   "source": [
    "def sentiment_score(comment):: This line defines a function named sentiment_score that takes a single argument comment, which is the text of the comment for which you want to calculate the sentiment score.\n",
    "\n",
    "Inside the function, tokenizer.encode(comment, return_tensors='pt') tokenizes the input comment using the loaded tokenizer. The return_tensors='pt' argument specifies that the output should be returned as PyTorch tensors.\n",
    "\n",
    "The tokenized input is then passed through the loaded sentiment analysis model using model(tokens). The result is stored in the result variable.\n",
    "\n",
    "int(torch.argmax(result.logits)) + 1 extracts the sentiment prediction from the model's output logits using torch.argmax() to find the index of the maximum value. Adding 1 is done to convert the 0-based indexing to a 1-based sentiment score.\n",
    "\n",
    "The sentiment score is returned by the function."
   ]
  },
  {
   "cell_type": "code",
   "execution_count": 19,
   "metadata": {},
   "outputs": [],
   "source": [
    "def sentiment_score(comment):\n",
    "    tokens = tokenizer.encode(comment, return_tensors='pt')\n",
    "    result = model(tokens)\n",
    "    return int(torch.argmax(result.logits))+1"
   ]
  },
  {
   "cell_type": "markdown",
   "metadata": {},
   "source": [
    "df['comment']: This part accesses the 'comment' column of the DataFrame df.\n",
    "\n",
    ".apply(lambda x: sentiment_score(x[:512])): This part applies a function to each element of the 'comment' column. The function passed here is a lambda function that takes each comment x and calculates the sentiment score using the sentiment_score function. The comment is truncated to the first 512 characters using x[:512] before passing it to the sentiment_score function.\n",
    "\n",
    "The calculated sentiment scores are then assigned to a new column named 'sentiment score' in the DataFrame.\n",
    "\n",
    "As a result, each row in the DataFrame will now have a corresponding sentiment score in the 'sentiment score' column, indicating the sentiment score calculated for the comment in that row."
   ]
  },
  {
   "cell_type": "code",
   "execution_count": 20,
   "metadata": {},
   "outputs": [],
   "source": [
    "df['sentiment score'] = df['comment'].apply(lambda x: sentiment_score(x[:512]))"
   ]
  },
  {
   "cell_type": "markdown",
   "metadata": {},
   "source": [
    "df.mean(): This line calculates the mean of all columns in the DataFrame df. By default, it calculates the mean for all numeric columns.\n",
    "\n",
    "numeric_only=True: This parameter restricts the calculation to only numeric columns. Non-numeric columns (like string columns) will be excluded from the calculation."
   ]
  },
  {
   "cell_type": "code",
   "execution_count": 21,
   "metadata": {},
   "outputs": [
    {
     "data": {
      "text/plain": [
       "sentiment score    3.47\n",
       "dtype: float64"
      ]
     },
     "execution_count": 21,
     "metadata": {},
     "output_type": "execute_result"
    }
   ],
   "source": [
    "df.mean(numeric_only=True)"
   ]
  },
  {
   "cell_type": "markdown",
   "metadata": {},
   "source": [
    "sns.countplot(): This is a function from the seaborn library that creates a count plot. A count plot is used to show the counts of observations in each categorical bin.\n",
    "\n",
    "x='sentiment score': This parameter specifies that the x-axis of the count plot will be based on the 'sentiment score' column in the DataFrame df.\n",
    "\n",
    "data=df: This parameter specifies the DataFrame df as the data source for the plot."
   ]
  },
  {
   "cell_type": "code",
   "execution_count": 22,
   "metadata": {},
   "outputs": [
    {
     "data": {
      "text/plain": [
       "<Axes: xlabel='sentiment score', ylabel='count'>"
      ]
     },
     "execution_count": 22,
     "metadata": {},
     "output_type": "execute_result"
    },
    {
     "data": {
      "image/png": "[encoded data removed]",
      "text/plain": [
       "<Figure size 640x480 with 1 Axes>"
      ]
     },
     "metadata": {},
     "output_type": "display_data"
    }
   ],
   "source": [
    "sns.countplot(x='sentiment score', data=df)"
   ]
  }
 ],
 "metadata": {
  "kernelspec": {
   "display_name": "Python 3",
   "language": "python",
   "name": "python3"
  },
  "language_info": {
   "codemirror_mode": {
    "name": "ipython",
    "version": 3
   },
   "file_extension": ".py",
   "mimetype": "text/x-python",
   "name": "python",
   "nbconvert_exporter": "python",
   "pygments_lexer": "ipython3",
   "version": "3.10.10"
  }
 },
 "nbformat": 4,
 "nbformat_minor": 2
}
